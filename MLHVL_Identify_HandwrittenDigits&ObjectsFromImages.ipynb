{
  "nbformat": 4,
  "nbformat_minor": 0,
  "metadata": {
    "colab": {
      "name": "MLHVL Exercise 1 Vollebregt",
      "provenance": [],
      "collapsed_sections": []
    },
    "kernelspec": {
      "display_name": "Python 3",
      "name": "python3"
    }
  },
  "cells": [
    {
      "cell_type": "markdown",
      "metadata": {
        "id": "yUrv-7x_hLv6"
      },
      "source": [
        "# PART 1"
      ]
    },
    {
      "cell_type": "markdown",
      "metadata": {
        "id": "1IPBMW7nqx76"
      },
      "source": [
        "## **Exercise one: Identifying handwritten numbers**"
      ]
    },
    {
      "cell_type": "code",
      "metadata": {
        "id": "mCQy2myyqhfV"
      },
      "source": [
        "# Import libraries\n",
        "from tensorflow import keras\n",
        "import numpy as np\n",
        "import matplotlib.pyplot as plt\n",
        "from keras import layers\n",
        "\n",
        "# Download MNIST Data set\n",
        "(X_train, y_train), (X_test, y_test) = keras.datasets.mnist.load_data()\n"
      ],
      "execution_count": 3,
      "outputs": []
    },
    {
      "cell_type": "markdown",
      "metadata": {
        "id": "vuBvkwuBrdTk"
      },
      "source": [
        "**Pre-process data**"
      ]
    },
    {
      "cell_type": "code",
      "metadata": {
        "colab": {
          "base_uri": "https://localhost:8080/"
        },
        "id": "moCFo3-Erdi1",
        "outputId": "f0866b01-1cba-4fa6-f8c0-4d9c03692463"
      },
      "source": [
        "# Flatten datasets into 1 dimension\n",
        "print(X_train.shape)\n",
        "print(X_test.shape)\n",
        "x_train = X_train.reshape(60000,784)\n",
        "x_test = X_test.reshape(10000,784)\n",
        "print(x_train.shape)\n",
        "print(x_test.shape)\n",
        "\n",
        "# Rescale to values between 0 and 1\n",
        "x_train = x_train / 255.\n",
        "x_test = x_test / 255.\n",
        "\n",
        "# Convert labels into categorical\n",
        "print(y_train.shape)\n",
        "y_train = keras.utils.to_categorical(y_train, 10)\n",
        "y_test = keras.utils.to_categorical(y_test, 10)\n",
        "print(y_train.shape)"
      ],
      "execution_count": 4,
      "outputs": [
        {
          "output_type": "stream",
          "name": "stdout",
          "text": [
            "(60000, 28, 28)\n",
            "(10000, 28, 28)\n",
            "(60000, 784)\n",
            "(10000, 784)\n",
            "(60000,)\n",
            "(60000, 10)\n"
          ]
        }
      ]
    },
    {
      "cell_type": "markdown",
      "metadata": {
        "id": "fOg5jQqDfMd2"
      },
      "source": [
        "**Model Definition**"
      ]
    },
    {
      "cell_type": "code",
      "metadata": {
        "colab": {
          "base_uri": "https://localhost:8080/"
        },
        "id": "d4rf4UzNgASa",
        "outputId": "bf355700-285e-4c64-eaa3-9cd5d224e6fb"
      },
      "source": [
        "model = keras.Sequential()\n",
        "model.add(keras.layers.Dense(256, input_shape=(784,),activation='relu'))\n",
        "model.add(keras.layers.Dense(10, activation='softmax'))\n",
        "model.summary()\n",
        "model.compile(loss='categorical_crossentropy', \n",
        "optimizer=keras.optimizers.RMSprop(), metrics='accuracy')"
      ],
      "execution_count": 5,
      "outputs": [
        {
          "output_type": "stream",
          "name": "stdout",
          "text": [
            "Model: \"sequential\"\n",
            "_________________________________________________________________\n",
            " Layer (type)                Output Shape              Param #   \n",
            "=================================================================\n",
            " dense (Dense)               (None, 256)               200960    \n",
            "                                                                 \n",
            " dense_1 (Dense)             (None, 10)                2570      \n",
            "                                                                 \n",
            "=================================================================\n",
            "Total params: 203,530\n",
            "Trainable params: 203,530\n",
            "Non-trainable params: 0\n",
            "_________________________________________________________________\n"
          ]
        }
      ]
    },
    {
      "cell_type": "markdown",
      "metadata": {
        "id": "3xuag6Y0gsmS"
      },
      "source": [
        "**Training & evaluation**"
      ]
    },
    {
      "cell_type": "code",
      "metadata": {
        "colab": {
          "base_uri": "https://localhost:8080/"
        },
        "id": "ETSklafVgyOY",
        "outputId": "e98d9c13-95e6-4977-f857-20027fad8b1c"
      },
      "source": [
        "history = model.fit(x_train, y_train, batch_size=128, epochs = 12, verbose = 1, validation_split = 0.2)"
      ],
      "execution_count": 6,
      "outputs": [
        {
          "output_type": "stream",
          "name": "stdout",
          "text": [
            "Epoch 1/12\n",
            "375/375 [==============================] - 3s 8ms/step - loss: 0.3237 - accuracy: 0.9094 - val_loss: 0.1720 - val_accuracy: 0.9519\n",
            "Epoch 2/12\n",
            "375/375 [==============================] - 3s 7ms/step - loss: 0.1470 - accuracy: 0.9571 - val_loss: 0.1269 - val_accuracy: 0.9627\n",
            "Epoch 3/12\n",
            "375/375 [==============================] - 3s 7ms/step - loss: 0.0993 - accuracy: 0.9715 - val_loss: 0.1080 - val_accuracy: 0.9686\n",
            "Epoch 4/12\n",
            "375/375 [==============================] - 3s 7ms/step - loss: 0.0746 - accuracy: 0.9778 - val_loss: 0.0961 - val_accuracy: 0.9712\n",
            "Epoch 5/12\n",
            "375/375 [==============================] - 3s 7ms/step - loss: 0.0586 - accuracy: 0.9830 - val_loss: 0.0922 - val_accuracy: 0.9732\n",
            "Epoch 6/12\n",
            "375/375 [==============================] - 3s 7ms/step - loss: 0.0465 - accuracy: 0.9865 - val_loss: 0.0877 - val_accuracy: 0.9737\n",
            "Epoch 7/12\n",
            "375/375 [==============================] - 3s 7ms/step - loss: 0.0374 - accuracy: 0.9896 - val_loss: 0.0840 - val_accuracy: 0.9747\n",
            "Epoch 8/12\n",
            "375/375 [==============================] - 3s 7ms/step - loss: 0.0300 - accuracy: 0.9915 - val_loss: 0.0866 - val_accuracy: 0.9755\n",
            "Epoch 9/12\n",
            "375/375 [==============================] - 3s 7ms/step - loss: 0.0241 - accuracy: 0.9932 - val_loss: 0.0884 - val_accuracy: 0.9753\n",
            "Epoch 10/12\n",
            "375/375 [==============================] - 3s 7ms/step - loss: 0.0200 - accuracy: 0.9946 - val_loss: 0.0853 - val_accuracy: 0.9762\n",
            "Epoch 11/12\n",
            "375/375 [==============================] - 3s 7ms/step - loss: 0.0160 - accuracy: 0.9960 - val_loss: 0.0834 - val_accuracy: 0.9763\n",
            "Epoch 12/12\n",
            "375/375 [==============================] - 3s 7ms/step - loss: 0.0130 - accuracy: 0.9968 - val_loss: 0.0912 - val_accuracy: 0.9781\n"
          ]
        }
      ]
    },
    {
      "cell_type": "markdown",
      "metadata": {
        "id": "i-WmG06V3ZOF"
      },
      "source": [
        "## Questions"
      ]
    },
    {
      "cell_type": "markdown",
      "metadata": {
        "id": "fk3XfyJShNM3"
      },
      "source": [
        "**Question 1:** *Discuss with your group, then describe to your teacher, a list of applications where \n",
        "automatic recognition of hand-written numbers would be useful. (Question 1, 3 \n",
        "points)*"
      ]
    },
    {
      "cell_type": "markdown",
      "metadata": {
        "id": "UtD72Kr9oqBl"
      },
      "source": [
        "**Automatic handwritten number recognition would be useful in the following situations:**\n",
        "\n",
        "\n",
        "**- An application used for online school where students can write mathematics on paper at home and then take a picture that recognizes the written numbers and creates an online document with all the answers.**\n",
        "\n",
        "\n",
        "**- An application that can transcribe written school grades from teachers into a digital database.**\n",
        "\n",
        "**- An application to digitalize written bank receipts into the digital financial environment at a bank. Especially for old citizens.**\n",
        "\n",
        "**- An application to digitaly analyze voting per mail results.**"
      ]
    },
    {
      "cell_type": "markdown",
      "metadata": {
        "id": "sq7jKYschXvx"
      },
      "source": [
        "**Question 2:** *Show your teacher the text from your console, with how long it took for each epoch \n",
        "to run and the training performance history. (Question 2, 5 points)*"
      ]
    },
    {
      "cell_type": "markdown",
      "metadata": {
        "id": "VBq0Hlb4hhNv"
      },
      "source": [
        "**Question 3** *Plot the training history and show this to your teacher (Question 3, 3 points)*"
      ]
    },
    {
      "cell_type": "code",
      "metadata": {
        "colab": {
          "base_uri": "https://localhost:8080/",
          "height": 604
        },
        "id": "zs1yLZqOibkt",
        "outputId": "e8f72617-c8d9-48f6-b7bb-6aaf7679648e"
      },
      "source": [
        "# Plot training history of trained model.\n",
        "plt.figure()\n",
        "plt.title(\"Training History MNIST Dataset\", fontsize=16)\n",
        "plt.plot(history.history['accuracy'], label='accuracy', linewidth=2)\n",
        "plt.plot(history.history['val_accuracy'], label = 'validation accuracy', linewidth=2)\n",
        "plt.xlabel('Epoch', fontsize=16)\n",
        "plt.ylabel('Accuracy', fontsize=16)\n",
        "plt.legend(loc='lower right', fontsize=12)\n",
        "\n",
        "# Plot Loss\n",
        "plt.figure()\n",
        "plt.title(\"Loss Training History MNIST Dataset\", fontsize=16)\n",
        "plt.plot(history.history['loss'], label='loss', linewidth=2)\n",
        "plt.plot(history.history['val_loss'], label = 'validation loss', linewidth=2)\n",
        "plt.xlabel('Epoch', fontsize=16)\n",
        "plt.ylabel('Loss', fontsize=16)\n",
        "plt.legend(loc='lower right', fontsize=12)"
      ],
      "execution_count": 7,
      "outputs": [
        {
          "output_type": "execute_result",
          "data": {
            "text/plain": [
              "<matplotlib.legend.Legend at 0x7f093a00cfd0>"
            ]
          },
          "metadata": {},
          "execution_count": 7
        },
        {
          "output_type": "display_data",
          "data": {
            "image/png": "[encoded data removed]",
            "text/plain": [
              "<Figure size 432x288 with 1 Axes>"
            ]
          },
          "metadata": {
            "needs_background": "light"
          }
        },
        {
          "output_type": "display_data",
          "data": {
            "image/png": "[encoded data removed]",
            "text/plain": [
              "<Figure size 432x288 with 1 Axes>"
            ]
          },
          "metadata": {
            "needs_background": "light"
          }
        }
      ]
    },
    {
      "cell_type": "markdown",
      "metadata": {
        "id": "qLbvbmTvhmHX"
      },
      "source": [
        "**Question 4:** *Discuss with your group, then describe to your teacher, how the accuracy on the \n",
        "training and validation sets progress differently across epochs, and what this tells us \n",
        "about the generalisation of the model. (Question 4, 5 points).*"
      ]
    },
    {
      "cell_type": "markdown",
      "metadata": {
        "id": "e_LdhGtKqJNJ"
      },
      "source": [
        "**Both from the model history and the plotted history can be observed that the accuracy improves across epochs and especially after a steep increase after the first epoch, rises steadily from epoch 2 to 12. The validation accuracy starts much higher than the accuracy because the accuracy of the testing data is tested after the first training has been completed so naturally the validation accuracy will therefore be higher. Validation accuracy also changes more throughout all the epochs likely due to the high training rate. The validation accuracy is at the epochs 6-12 similar to the accuracy so there is no overfitting. The generalisation of the model seems therefore to be good.**"
      ]
    },
    {
      "cell_type": "markdown",
      "metadata": {
        "id": "4xRMGiEkhrlm"
      },
      "source": [
        "**Question 5:** *Evaluate the model performance on the test set using the following command:\n",
        "loss, accuracy = model.evaluate(x_test, y_test, verbose=0)\n",
        "Show your teacher what values you get for the model’s accuracy and loss. (Question \n",
        "5, 2 points*"
      ]
    },
    {
      "cell_type": "code",
      "metadata": {
        "colab": {
          "base_uri": "https://localhost:8080/"
        },
        "id": "PGiBR2irrXyR",
        "outputId": "6784c690-7ce9-4691-b188-f009aa777746"
      },
      "source": [
        "loss, accuracy = model.evaluate(x_test, y_test, verbose=0)\n",
        "print(loss)\n",
        "print(accuracy)"
      ],
      "execution_count": 8,
      "outputs": [
        {
          "output_type": "stream",
          "name": "stdout",
          "text": [
            "0.0777740478515625\n",
            "0.9787999987602234\n"
          ]
        }
      ]
    },
    {
      "cell_type": "markdown",
      "metadata": {
        "id": "tUMf8LtnhzED"
      },
      "source": [
        "**Question 6:** *Discuss with your group, then describe to your teacher, whether this accuracy is \n",
        "sufficient for some uses of automatic hand-written digit classification. (Question 6, 5 \n",
        "points)*"
      ]
    },
    {
      "cell_type": "markdown",
      "metadata": {
        "id": "6ETC6edItTfi"
      },
      "source": [
        "**This classification is not extremely accurate, with an error rate of about 1/20, so for important applications such as transcribing paper to online bank statements or voting registration, this accuracy is not sufficient. Perhaps this model can still be used if multiple checks are done. So if multiple models all predict based on the same data, the accuracy will likely greatly improve.**"
      ]
    },
    {
      "cell_type": "markdown",
      "metadata": {
        "id": "dDxIi44Oh4qs"
      },
      "source": [
        "**Question 7:** *Discuss with your group, then describe to your \n",
        "teacher, how linear activation of units limits the possible computations this model can \n",
        "perform. (Question 7, 5 points)*"
      ]
    },
    {
      "cell_type": "markdown",
      "metadata": {
        "id": "8k7zNlyRw3-0"
      },
      "source": [
        "**A linear activation impairs the possible use of the model because there can be no hidden layers. With a linear activation, the model is actually a linear regression model that is not able to learn complex tasks. Deep hidden layers can learn complex tasks because each layer can focus on a specific part of the image such as corners or orientation, colors etc.**"
      ]
    },
    {
      "cell_type": "markdown",
      "metadata": {
        "id": "lMcOCTIlh_Zn"
      },
      "source": [
        "**Question 8:** *Now make a similar model with a rectified activation in the first hidden layer, by \n",
        "adding the extra argument:\n",
        "activation = “relu”\n",
        "to the model definition for this layer. Then compile, fit and evaluate the model. \n",
        "Plot the training history and show it to your teacher (Question 8, 2 points)*"
      ]
    },
    {
      "cell_type": "markdown",
      "metadata": {
        "id": "DTFgiiF3iHhc"
      },
      "source": [
        "**Question 9:** *Discuss with your group, then describe to your teacher, how this training history \n",
        "differs from the previous model, for the training and validation sets. Describe what \n",
        "this tells us about the generalisation of the model.\n",
        "(Question 9, 5 points)*"
      ]
    },
    {
      "cell_type": "markdown",
      "metadata": {
        "id": "iR3YMY45iNCK"
      },
      "source": [
        "**Currently the model has a non-linear acivation layer (Relu) and therefore the model can have deep layers that allow the model to focus on specific features of the image. Therefore the accuracy and validation accuracy is much higher than the previous model. However, the generalisation is lower because the model is overfitting after a couple of epochs (3-4); the validation accuracy does not increase after a few epochs (3-4), while the accuracy does. The overfitting is also visible in the loss function, because the validation loss does not decline after 3-4 epochs, while the loss does decline further.**"
      ]
    },
    {
      "cell_type": "markdown",
      "metadata": {
        "id": "IUdQcqTeoEOV"
      },
      "source": [
        "## **Deep convolutional networks**"
      ]
    },
    {
      "cell_type": "markdown",
      "metadata": {
        "id": "0H7Q84wboIRl"
      },
      "source": [
        "Basically same code as above but with slight adjustments.\n",
        "Written twice in case we need first part of the code again"
      ]
    },
    {
      "cell_type": "code",
      "metadata": {
        "colab": {
          "base_uri": "https://localhost:8080/"
        },
        "id": "ZQV0qBdxofV3",
        "outputId": "d045eb24-4275-4031-d275-94a704b8c7d1"
      },
      "source": [
        "# PREPROCESS Data for convolutional network\n",
        "# Import libraries\n",
        "from tensorflow import keras\n",
        "import numpy as np\n",
        "import matplotlib.pyplot as plt\n",
        "\n",
        "# Download MNIST Data set\n",
        "(X_train, Y_train), (X_test, Y_test) = keras.datasets.mnist.load_data()\n",
        "\n",
        "# Flatten datasets into 1 dimension\n",
        "print(X_train.shape)\n",
        "print(X_test.shape)\n",
        "x_train = X_train.reshape(60000,28,28,1)\n",
        "x_test = X_test.reshape(10000,28,28,1)\n",
        "print(x_train.shape)\n",
        "print(x_test.shape)\n",
        "\n",
        "# Rescale to values between 0 and 1\n",
        "x_train = x_train / 255.\n",
        "x_test = x_test / 255.\n",
        "\n",
        "# Convert labels into categorical\n",
        "print(Y_train.shape)\n",
        "y_train = keras.utils.to_categorical(Y_train, 10)\n",
        "y_test = keras.utils.to_categorical(Y_test, 10)\n",
        "print(y_train.shape)\n"
      ],
      "execution_count": 9,
      "outputs": [
        {
          "output_type": "stream",
          "name": "stdout",
          "text": [
            "(60000, 28, 28)\n",
            "(10000, 28, 28)\n",
            "(60000, 28, 28, 1)\n",
            "(10000, 28, 28, 1)\n",
            "(60000,)\n",
            "(60000, 10)\n"
          ]
        }
      ]
    },
    {
      "cell_type": "code",
      "metadata": {
        "colab": {
          "base_uri": "https://localhost:8080/"
        },
        "id": "uVtcSEKqpSFn",
        "outputId": "8c2c0520-1c94-41fa-bd21-8f1f34ec3381"
      },
      "source": [
        "# MAKE convolutional network\n",
        "model = keras.Sequential() \n",
        "model.add(keras.layers.Conv2D(filters=32, kernel_size=(3, 3), activation=\"relu\", input_shape=(28, 28, 1))) \n",
        "model.add(keras.layers.Conv2D(filters=64, kernel_size=(3, 3), activation=\"relu\")) \n",
        "model.add(keras.layers.MaxPool2D(pool_size=(2, 2))) \n",
        "model.add(keras.layers.Flatten()) \n",
        "model.add(keras.layers.Dense(128, activation=\"relu\")) \n",
        "model.add(keras.layers.Dense(10, activation=\"softmax\")) \n",
        "model.compile(loss='categorical_crossentropy',\n",
        "optimizer=keras.optimizers.Adadelta(learning_rate=1), metrics='accuracy')\n",
        "\n",
        "history = model.fit(x_train, y_train, batch_size=128, \n",
        "epochs = 6, verbose = 1, validation_split = 0.2)"
      ],
      "execution_count": 10,
      "outputs": [
        {
          "output_type": "stream",
          "name": "stdout",
          "text": [
            "Epoch 1/6\n",
            "375/375 [==============================] - 114s 302ms/step - loss: 0.2302 - accuracy: 0.9286 - val_loss: 0.0672 - val_accuracy: 0.9808\n",
            "Epoch 2/6\n",
            "375/375 [==============================] - 112s 299ms/step - loss: 0.0539 - accuracy: 0.9835 - val_loss: 0.0504 - val_accuracy: 0.9850\n",
            "Epoch 3/6\n",
            "375/375 [==============================] - 112s 298ms/step - loss: 0.0334 - accuracy: 0.9899 - val_loss: 0.0442 - val_accuracy: 0.9861\n",
            "Epoch 4/6\n",
            "375/375 [==============================] - 111s 296ms/step - loss: 0.0224 - accuracy: 0.9930 - val_loss: 0.0471 - val_accuracy: 0.9866\n",
            "Epoch 5/6\n",
            "375/375 [==============================] - 112s 298ms/step - loss: 0.0147 - accuracy: 0.9956 - val_loss: 0.0416 - val_accuracy: 0.9872\n",
            "Epoch 6/6\n",
            "375/375 [==============================] - 112s 299ms/step - loss: 0.0101 - accuracy: 0.9973 - val_loss: 0.0432 - val_accuracy: 0.9889\n"
          ]
        }
      ]
    },
    {
      "cell_type": "markdown",
      "metadata": {
        "id": "B_kH12h8qExy"
      },
      "source": [
        "**QUESTION 10:** *Plot the training history and show this to your teacher. (Question 10, 2 points)*"
      ]
    },
    {
      "cell_type": "code",
      "metadata": {
        "id": "9f6DFwLxp3d5",
        "colab": {
          "base_uri": "https://localhost:8080/",
          "height": 604
        },
        "outputId": "e2315937-3d34-4a84-db53-69f158b69d19"
      },
      "source": [
        "# Plot training history of model.\n",
        "plt.figure()\n",
        "plt.title(\"Training History MNIST Dataset\", fontsize=16)\n",
        "plt.plot(history.history['accuracy'], label='accuracy', linewidth=2)\n",
        "plt.plot(history.history['val_accuracy'], label = 'validation accuracy', linewidth=2)\n",
        "plt.xlabel('Epoch', fontsize=16)\n",
        "plt.ylabel('Accuracy', fontsize=16)\n",
        "plt.legend(loc='lower right', fontsize=12)\n",
        "\n",
        "# Plot Loss\n",
        "plt.figure()\n",
        "plt.title(\"Loss Training History MNIST Dataset\", fontsize=16)\n",
        "plt.plot(history.history['loss'], label='loss', linewidth=2)\n",
        "plt.plot(history.history['val_loss'], label = 'validation loss', linewidth=2)\n",
        "plt.xlabel('Epoch', fontsize=16)\n",
        "plt.ylabel('Loss', fontsize=16)\n",
        "plt.legend(loc='lower right', fontsize=12)"
      ],
      "execution_count": 11,
      "outputs": [
        {
          "output_type": "execute_result",
          "data": {
            "text/plain": [
              "<matplotlib.legend.Legend at 0x7f093985cd10>"
            ]
          },
          "metadata": {},
          "execution_count": 11
        },
        {
          "output_type": "display_data",
          "data": {
            "image/png": "[encoded data removed]",
            "text/plain": [
              "<Figure size 432x288 with 1 Axes>"
            ]
          },
          "metadata": {
            "needs_background": "light"
          }
        },
        {
          "output_type": "display_data",
          "data": {
            "image/png": "[encoded data removed]",
            "text/plain": [
              "<Figure size 432x288 with 1 Axes>"
            ]
          },
          "metadata": {
            "needs_background": "light"
          }
        }
      ]
    },
    {
      "cell_type": "markdown",
      "metadata": {
        "id": "VKMVxJI2qOgs"
      },
      "source": [
        "**Question 11:** *Discuss with your group, then describe to your teacher, how the training history differs from the previous model, for the training and validation sets. What does this tell us about the generalisation of the model?\n",
        "(Question 11, 5 points)*"
      ]
    },
    {
      "cell_type": "markdown",
      "metadata": {
        "id": "E-VTZiEwuHpp"
      },
      "source": [
        "**Both models do not differ very much except for the validation loss. The validation loss is much lower in this model compared to the previous one. The validation accuracy starts at a higher level in this model compared to the previous model. The accuracy of the current model is 0.997 and validation accuracy is 0.988, while the accuracy of the previous model was 0.997 and the validation accuracy was 0.978. The difference between the accuracy and validation accuracy is smaller in this model than in the previous model. Therefore, this model has a better generalisation than the previous model.**"
      ]
    },
    {
      "cell_type": "markdown",
      "metadata": {
        "id": "OzYr4k2qqYNb"
      },
      "source": [
        "**Question 12:** *Show your teacher what values you get for the model’s accuracy and loss. (Question 12, 2 points)*"
      ]
    },
    {
      "cell_type": "code",
      "metadata": {
        "id": "NL0MVvLhqcA-",
        "colab": {
          "base_uri": "https://localhost:8080/"
        },
        "outputId": "9cdf43e6-f749-47ae-8383-2dbcbd072af4"
      },
      "source": [
        "loss, accuracy = model.evaluate(x_test, y_test, verbose=0)\n",
        "print(loss)\n",
        "print(accuracy)"
      ],
      "execution_count": 12,
      "outputs": [
        {
          "output_type": "stream",
          "name": "stdout",
          "text": [
            "0.03139574080705643\n",
            "0.9904999732971191\n"
          ]
        }
      ]
    },
    {
      "cell_type": "markdown",
      "metadata": {
        "id": "hjWJj6NiqjET"
      },
      "source": [
        "**Question 13:** *Discuss with your group, then describe to your teacher, whether this accuracy is sufficient for some uses of automatic hand-written digit classification. (Question 13, 5 points)*"
      ]
    },
    {
      "cell_type": "markdown",
      "metadata": {
        "id": "418Ee7rpvGQr"
      },
      "source": [
        "**The accuracy is pretty high with almost 99% accuracy. For some uses of automatic hand-written digit classification this is sufficient. Such as transcribing written notes into digital ones, but for financial statements such as digitalizing bank receipts or translating written votes into digital numbers, this is still a 1/100 error-rate so too high for high-stake uses.**"
      ]
    },
    {
      "cell_type": "code",
      "metadata": {
        "colab": {
          "base_uri": "https://localhost:8080/"
        },
        "id": "9pF3OSybtMpe",
        "outputId": "74c23819-4fb5-4436-9c68-38b3e9651cd7"
      },
      "source": [
        "# MAKE convolutional network 2\n",
        "model2 = keras.Sequential() \n",
        "model2.add(keras.layers.Conv2D(filters=32, kernel_size=(3, 3), activation=\"relu\", input_shape=(28, 28, 1))) \n",
        "model2.add(keras.layers.Conv2D(filters=64, kernel_size=(3, 3), activation=\"relu\")) \n",
        "model2.add(keras.layers.MaxPool2D(pool_size=(2, 2))) \n",
        "# ADDED\n",
        "model2.add(keras.layers.Dropout(rate=0.25))\n",
        "\n",
        "model2.add(keras.layers.Flatten()) \n",
        "model2.add(keras.layers.Dense(128, activation=\"relu\")) \n",
        "# ADDED\n",
        "model2.add(keras.layers.Dropout(rate=0.5))\n",
        "model2.add(keras.layers.Dense(10, activation=\"softmax\")) \n",
        "\n",
        "model2.compile(loss='categorical_crossentropy',\n",
        "optimizer=keras.optimizers.Adadelta(learning_rate=1), metrics='accuracy')\n",
        "\n",
        "history2 = model2.fit(x_train, y_train, batch_size=128, \n",
        "epochs = 6, verbose = 1, validation_split = 0.2)"
      ],
      "execution_count": 13,
      "outputs": [
        {
          "output_type": "stream",
          "name": "stdout",
          "text": [
            "Epoch 1/6\n",
            "375/375 [==============================] - 118s 314ms/step - loss: 0.3085 - accuracy: 0.9049 - val_loss: 0.0688 - val_accuracy: 0.9797\n",
            "Epoch 2/6\n",
            "375/375 [==============================] - 117s 313ms/step - loss: 0.0988 - accuracy: 0.9706 - val_loss: 0.0550 - val_accuracy: 0.9850\n",
            "Epoch 3/6\n",
            "375/375 [==============================] - 118s 315ms/step - loss: 0.0727 - accuracy: 0.9783 - val_loss: 0.0439 - val_accuracy: 0.9877\n",
            "Epoch 4/6\n",
            "375/375 [==============================] - 116s 310ms/step - loss: 0.0585 - accuracy: 0.9827 - val_loss: 0.0449 - val_accuracy: 0.9878\n",
            "Epoch 5/6\n",
            "375/375 [==============================] - 116s 309ms/step - loss: 0.0514 - accuracy: 0.9845 - val_loss: 0.0377 - val_accuracy: 0.9897\n",
            "Epoch 6/6\n",
            "375/375 [==============================] - 115s 307ms/step - loss: 0.0442 - accuracy: 0.9867 - val_loss: 0.0412 - val_accuracy: 0.9890\n"
          ]
        }
      ]
    },
    {
      "cell_type": "code",
      "metadata": {
        "colab": {
          "base_uri": "https://localhost:8080/",
          "height": 604
        },
        "id": "aHh006riwyRs",
        "outputId": "8affc3c9-7654-4484-e17a-cabb54f1b320"
      },
      "source": [
        "# Plot training history of model.\n",
        "plt.figure()\n",
        "plt.title(\"Training History MNIST Dataset convolutional network with dropout\", fontsize=16)\n",
        "plt.plot(history2.history['accuracy'], label='accuracy', linewidth=2)\n",
        "plt.plot(history2.history['val_accuracy'], label = 'validation accuracy', linewidth=2)\n",
        "plt.xlabel('Epoch', fontsize=16)\n",
        "plt.ylabel('Accuracy', fontsize=16)\n",
        "plt.legend(loc='lower right', fontsize=12)\n",
        "\n",
        "# Plot Loss\n",
        "plt.figure()\n",
        "plt.title(\"Loss Training History MNIST Dataset\", fontsize=16)\n",
        "plt.plot(history2.history['loss'], label='loss', linewidth=2)\n",
        "plt.plot(history2.history['val_loss'], label = 'validation loss', linewidth=2)\n",
        "plt.xlabel('Epoch', fontsize=16)\n",
        "plt.ylabel('Loss', fontsize=16)\n",
        "plt.legend(loc='lower right', fontsize=12)"
      ],
      "execution_count": 14,
      "outputs": [
        {
          "output_type": "execute_result",
          "data": {
            "text/plain": [
              "<matplotlib.legend.Legend at 0x7f0935e2f2d0>"
            ]
          },
          "metadata": {},
          "execution_count": 14
        },
        {
          "output_type": "display_data",
          "data": {
            "image/png": "[encoded data removed]",
            "text/plain": [
              "<Figure size 432x288 with 1 Axes>"
            ]
          },
          "metadata": {
            "needs_background": "light"
          }
        },
        {
          "output_type": "display_data",
          "data": {
            "image/png": "[encoded data removed]",
            "text/plain": [
              "<Figure size 432x288 with 1 Axes>"
            ]
          },
          "metadata": {
            "needs_background": "light"
          }
        }
      ]
    },
    {
      "cell_type": "markdown",
      "metadata": {
        "id": "xszKeKqzv7wc"
      },
      "source": [
        "**Question 14:** *Discuss with your group, then describe to your teacher, how the training history differs from the previous (convolutional) model, for both the training and validation sets, and for the time taken to run each model epoch (Question 14, 3 points)*"
      ]
    },
    {
      "cell_type": "markdown",
      "metadata": {
        "id": "MafbRvz8wJ0H"
      },
      "source": [
        "**The training history of this model differs from the previous convolutional model, because the difference between accuracy and validation accuracy is even smaller: accuracy is 0.987 and 0.989 validation accuracy in this model and the previous model has 0.997 accuracy and validation accuracy 0.988. Not only is the difference smaller, the validation accuracy is higher. Therefore, this model with dropout has better generalisation. The accuracy is lower in this model because the dropout causes the model to overfit less on the training data and perform as well on the training as on the testing data. The final accuracy after evaluation is similar to the previous model.** \n",
        "\n",
        "**The time it takes to run each epoch takes a bit longer in this model: 5-10 second more in this model, than in the previous convolutional model.**"
      ]
    },
    {
      "cell_type": "markdown",
      "metadata": {
        "id": "JlMSSVunwAOF"
      },
      "source": [
        "**Question 15:** *Discuss with your group, then describe to your teacher, what this tells us about the generalisation of the two models. (Question 15, 3 points)*"
      ]
    },
    {
      "cell_type": "markdown",
      "metadata": {
        "id": "fbJwPEKyF-7U"
      },
      "source": [
        "**In the second model, dropout was used which means that the model can no longer identify input based on one specific feature that it learned with the training data set, but rather has to classify using the features for a certain category. This is also what we observe. Model 2 has a higher validation accuracy than model 1. The difference between the validation accuracy (0.989) and accuracy (0.987) is smaller in this model than in the previous model (0.997 accuracy and 0.988 validation accuracy). Model 2 does not overfit because the validation accuracy is never lower than the accuracy, unlike model 1 and is therefore more generalized than model 1.** \n"
      ]
    },
    {
      "cell_type": "markdown",
      "metadata": {
        "id": "8YQjGhHkC4rQ"
      },
      "source": [
        "# PART 2 Identifying objects from images"
      ]
    },
    {
      "cell_type": "markdown",
      "metadata": {
        "id": "n0uZ3FFw008y"
      },
      "source": [
        "## Dataset with images"
      ]
    },
    {
      "cell_type": "code",
      "metadata": {
        "colab": {
          "base_uri": "https://localhost:8080/"
        },
        "id": "YHWF3IvN09vm",
        "outputId": "04c33c72-279e-43f0-f136-2c1c27a8aa80"
      },
      "source": [
        "# PREPROCESS image data\n",
        "# Import libraries\n",
        "from tensorflow import keras\n",
        "import numpy as np\n",
        "import matplotlib.pyplot as plt\n",
        "from keras import layers\n",
        "\n",
        "# Download image Data set\n",
        "(x_train, y_train), (x_test, y_test) = keras.datasets.cifar10.load_data()\n",
        "\n",
        "# Rescale to values between 0 and 1\n",
        "x_train = x_train / 255.\n",
        "x_test = x_test / 255.\n",
        "\n",
        "# Convert labels into categorical\n",
        "print(y_train.shape)\n",
        "y_train = keras.utils.to_categorical(y_train, 10)\n",
        "y_test = keras.utils.to_categorical(y_test, 10)\n",
        "print(y_train.shape)"
      ],
      "execution_count": 15,
      "outputs": [
        {
          "output_type": "stream",
          "name": "stdout",
          "text": [
            "Downloading data from https://www.cs.toronto.edu/~kriz/cifar-10-python.tar.gz\n",
            "170500096/170498071 [==============================] - 3s 0us/step\n",
            "170508288/170498071 [==============================] - 3s 0us/step\n",
            "(50000, 1)\n",
            "(50000, 10)\n"
          ]
        }
      ]
    },
    {
      "cell_type": "markdown",
      "metadata": {
        "id": "D7Bye9rl2hYd"
      },
      "source": [
        "**Question 16:** *Before fitting the model, show your teacher the code you used to define the model described here. (Question 16, 6 points)*"
      ]
    },
    {
      "cell_type": "code",
      "metadata": {
        "colab": {
          "base_uri": "https://localhost:8080/"
        },
        "id": "1sgX_A9B1pa8",
        "outputId": "17d70e6b-5e47-40ab-d561-1e76936fda02"
      },
      "source": [
        "# MAKE convolutional image model\n",
        "model = keras.Sequential() \n",
        "model.add(keras.layers.Conv2D(filters=32, kernel_size=(3, 3), activation=\"relu\", input_shape=(32, 32, 3), padding = \"same\")) \n",
        "model.add(keras.layers.Conv2D(filters=32, kernel_size=(3, 3), activation=\"relu\")) \n",
        "model.add(keras.layers.MaxPool2D(pool_size=(2, 2))) \n",
        "model.add(keras.layers.Dropout(rate=0.25))\n",
        "model.add(keras.layers.Conv2D(filters=32, kernel_size=(3, 3), activation=\"relu\"))\n",
        "model.add(keras.layers.Conv2D(filters=32, kernel_size=(3, 3), activation=\"relu\"))\n",
        "model.add(keras.layers.MaxPool2D(pool_size=(2, 2))) \n",
        "model.add(keras.layers.Dropout(rate=0.25))\n",
        "model.add(keras.layers.Flatten()) \n",
        "model.add(keras.layers.Dense(512, activation=\"relu\")) \n",
        "model.add(keras.layers.Dropout(rate=0.5))\n",
        "model.add(keras.layers.Dense(10, activation=\"softmax\")) \n",
        "\n",
        "model.compile(loss='categorical_crossentropy',\n",
        "optimizer = keras.optimizers.RMSprop(lr=0.0001, decay=1e-6), metrics = 'accuracy')\n",
        "\n",
        "history = model.fit(x_train, y_train, batch_size=32, \n",
        "epochs = 20, verbose = 1, validation_data=(x_test, y_test),shuffle = True)"
      ],
      "execution_count": null,
      "outputs": [
        {
          "output_type": "stream",
          "name": "stderr",
          "text": [
            "/usr/local/lib/python3.7/dist-packages/keras/optimizer_v2/rmsprop.py:130: UserWarning: The `lr` argument is deprecated, use `learning_rate` instead.\n",
            "  super(RMSprop, self).__init__(name, **kwargs)\n"
          ]
        },
        {
          "output_type": "stream",
          "name": "stdout",
          "text": [
            "Epoch 1/20\n",
            " 261/1563 [====>.........................] - ETA: 2:18 - loss: 2.2226 - accuracy: 0.1659"
          ]
        }
      ]
    },
    {
      "cell_type": "markdown",
      "metadata": {
        "id": "DYu8iB0t2-8X"
      },
      "source": [
        "**Question 17:** *Plot the training history and show it to your teacher (Question 17, 2 points)*"
      ]
    },
    {
      "cell_type": "code",
      "metadata": {
        "id": "dsKlu2mJtpDG"
      },
      "source": [
        "# Plot training history of model.\n",
        "plt.figure()\n",
        "plt.title(\"Training History CIFAR Dataset\", fontsize=16)\n",
        "plt.plot(history2.history['accuracy'], label='accuracy', linewidth=2)\n",
        "plt.plot(history2.history['val_accuracy'], label = 'validation accuracy', linewidth=2)\n",
        "plt.xlabel('Epoch', fontsize=16)\n",
        "plt.ylabel('Accuracy', fontsize=16)\n",
        "plt.legend(loc='lower right', fontsize=12)\n",
        "\n",
        "# Plot Loss\n",
        "plt.figure()\n",
        "plt.title(\"Loss Training History CIFAR Dataset\", fontsize=16)\n",
        "plt.plot(history2.history['loss'], label='loss', linewidth=2)\n",
        "plt.plot(history2.history['val_loss'], label = 'validation loss', linewidth=2)\n",
        "plt.xlabel('Epoch', fontsize=16)\n",
        "plt.ylabel('Loss', fontsize=16)\n",
        "plt.legend(loc='lower right', fontsize=12)"
      ],
      "execution_count": null,
      "outputs": []
    },
    {
      "cell_type": "markdown",
      "metadata": {
        "id": "RXtYrol03lRt"
      },
      "source": [
        "**Question 18:** *Discuss with your group, then describe to your teacher, how the training history differs from the convolutional model for digit recognition and why. (Question 18, 5 points)*\n"
      ]
    },
    {
      "cell_type": "markdown",
      "metadata": {
        "id": "8A_2Jo2C3MyL"
      },
      "source": [
        "**The training history of this model on the picture set has a much lower accuracy after 20 epochs and also a less steep climbing curve than the previous models trained on the MNEST data set. This can be explained because the input is very different. The input is not only 3d because it contains colours, the different viewpoints on the objects and very different backgrounds make it more complex as well. Therefore, the input is more complex in this dataset and therefore the model trains more slowly than the previous convolutional MNEST models. Also, the learning rate is much slower 0.0001 for CIFAR instead of 1 for MNEST so the models learns slower and therefore the learning curve is less steep. The 20 epochs instead of 6 is not enough to compensate for that. The difference between validation accuracy and accuracy is not very different than the last convolutional model with dropout; The validation accuracy is always higher than the accuracy. This is because the models both have dropout layers which prevent overfitting.**"
      ]
    },
    {
      "cell_type": "markdown",
      "metadata": {
        "id": "X37bYXyq3n75"
      },
      "source": [
        "**Question 19:** *Discuss with your group, then describe to your teacher, how the time taken for each training epoch differs from the convolutional model for digit recognition. Give several factors that may contribute to this difference (Question 19, 4 points)*"
      ]
    },
    {
      "cell_type": "markdown",
      "metadata": {
        "id": "ynN31XER4LHN"
      },
      "source": [
        "**The training time of each epoch is around 3 minutes in this CIFAR model, while the training time of the MNEST model was around 2 minutes at most. This difference is likely due to the more complex input; the CIFAR input is 3d (32x32x3) while the MNEST input is 2d (28x28x1). This means that the CIFAR contains 3 times more elements than the MNEST which makes the model slower. Also, this model contains more layers than the previous models: 12 instead of 8. The batch size is smaller in this model compared to the previous models which reduces the computational power and makes sure the running time is 'only' 1 minute larger.**"
      ]
    },
    {
      "cell_type": "markdown",
      "metadata": {
        "id": "whC6uAuOhfsz"
      },
      "source": [
        "# PART 3: writing functions"
      ]
    },
    {
      "cell_type": "markdown",
      "metadata": {
        "id": "Gl47XqA0p0UY"
      },
      "source": [
        "**Question 20:** *Write a simple function that achieves the convolution operation efficiently for twodimensional and three-dimensional inputs. This should allow you to input a set of convolutional filters (‘kernels’ in Keras’s terminology) and an input layer (or image) as inputs. The input layer should have a third dimension, representing a stack of feature maps, and each filter should have a third dimension of corresponding size. The function should output a number of two-dimensional feature maps corresponding to the number of input filters, though these can be stacked into a third dimensional like the input layer. After agreeing on a common function with your group members, show this to your teacher. (Question 20, 5 points)*\n"
      ]
    },
    {
      "cell_type": "markdown",
      "metadata": {
        "id": "tlX22Smb0aQm"
      },
      "source": [
        "## Question 20"
      ]
    },
    {
      "cell_type": "code",
      "metadata": {
        "id": "tvx4R22i3ImV"
      },
      "source": [
        "def convolution_operation (input, *filters):\n",
        "  #determine shape of the output matrix\n",
        "    input = np.array(input)\n",
        "    dim = len(np.shape(input))\n",
        "\n",
        "    if (dim == 2):\n",
        "          xInput, yInput = np.shape(input)\n",
        "          nf, xFilter,yFilter = np.shape(filters)\n",
        "    else:\n",
        "          zInput,xInput,yInput = np.shape(input)\n",
        "          nf, zFilter,xFilter,yFilter = np.shape(filters)\n",
        "    #determine output size\n",
        "    xOutput = xInput - xFilter + 1\n",
        "    yOutput = yInput - yFilter + 1\n",
        "\n",
        "    outputLijst = np.zeros((nf,xOutput,yOutput))\n",
        "    filter_index = 0\n",
        "    for filter in filters:\n",
        "        #case input is 2D\n",
        "        if (dim == 2):\n",
        "          #convolution operation\n",
        "          for y in range(yOutput): \n",
        "            for x in  range(xOutput):\n",
        "               outputLijst[filter_index][x][y] = ((input[x:(x+xFilter), y:(y+yFilter)]) * filter).sum()\n",
        "        #case input is 3D\n",
        "        else:\n",
        "          #determine output size\n",
        "          output = np.zeros((xOutput,yOutput), dtype= int)\n",
        "          for y in range(yOutput): \n",
        "            for x in  range(xOutput):\n",
        "              value = ((input[0:zFilter, x:(x+xFilter), y:(y+yFilter)]) * filter).sum()\n",
        "              outputLijst[filter_index][x][y] = value\n",
        "        filter_index += 1\n",
        "    return outputLijst \n"
      ],
      "execution_count": null,
      "outputs": []
    },
    {
      "cell_type": "code",
      "metadata": {
        "id": "0Vnq-M6qqL35"
      },
      "source": [
        "#testcase 2D\n",
        "A_2D = [[1,1,1,1],[2,2,2,2],[3,3,3,3],[4,4,4,4]]\n",
        "test_filter = [[1,1],[0,0]]\n",
        "print(convolution_operation(A_2D, test_filter))"
      ],
      "execution_count": null,
      "outputs": []
    },
    {
      "cell_type": "code",
      "metadata": {
        "id": "Pm-Edxqa0olV"
      },
      "source": [
        "#testcase 3D\n",
        "A_3D = [[[1,1,1,1],[2,2,2,2],[3,3,3,3]],[[1,1,1,1],[2,2,2,2],[3,3,3,3]]]\n",
        "test_filter_3D = [[[1,1],[1,1]],[[1,1],[1,1]]]\n",
        "print(convolution_operation(A_3D, test_filter_3D))"
      ],
      "execution_count": null,
      "outputs": []
    },
    {
      "cell_type": "markdown",
      "metadata": {
        "id": "1oYyDAVJoI2J"
      },
      "source": [
        "## Question 21"
      ]
    },
    {
      "cell_type": "markdown",
      "metadata": {
        "id": "o5DoZ2FLh4Hg"
      },
      "source": [
        "**Question 21:** *Write a simple function that achieves rectified linear (relu) activation over a whole\n",
        "feature map, with a threshold at zero. After agreeing on a common function with your\n",
        "group members, show this to your teacher. (Question 21, 2 points)*"
      ]
    },
    {
      "cell_type": "code",
      "metadata": {
        "id": "mYGtqrIVm-Ni"
      },
      "source": [
        "#Sunny relu without for-loop\n",
        "def relu_function(input, max_cijfer = float('inf')):\n",
        "  output = np.maximum(input, 0)\n",
        "  output = np.minimum(output, max_cijfer)\n",
        "  return output"
      ],
      "execution_count": null,
      "outputs": []
    },
    {
      "cell_type": "code",
      "metadata": {
        "id": "VqJ6xtHAnDYY"
      },
      "source": [
        "#testcase\n",
        "A = [[-1, 0], [2000, 3]]\n",
        "print(np.asmatrix(A))\n",
        "print(relu_function(A))"
      ],
      "execution_count": null,
      "outputs": []
    },
    {
      "cell_type": "markdown",
      "metadata": {
        "id": "nu6YEi--oZQD"
      },
      "source": [
        "## Question 22"
      ]
    },
    {
      "cell_type": "markdown",
      "metadata": {
        "id": "6SeIe9Zvp4-f"
      },
      "source": [
        "**Question 22:** *Write a simple function that achieves max pooling. This should allow you to specify the spatial extent of the pooling, with the size of the output feature map changing accordingly. After agreeing on a common function with your group members, show this to your teacher. (Question 22, 3 points)* \n"
      ]
    },
    {
      "cell_type": "code",
      "metadata": {
        "id": "tWWSCuOV1TF_"
      },
      "source": [
        "# Jacob\n",
        "import numpy as np\n",
        "def new_pool(inpt, size):\n",
        "    m,n = inpt.shape\n",
        "    print(inpt.reshape(m//size,size,n//size,size))\n",
        "    return inpt.reshape(m//size,size,n//size,size).max(axis=(1,3))\n",
        "\n",
        "inpt = np.array([\n",
        "      [  1,  2,  5, 4],\n",
        "      [  3,  4,  7, 5],\n",
        "      [  9,  10, 13, 7],\n",
        "      [  16,  10, 13, 20],\n",
        "      [  9,  10, 13, 40],\n",
        "      [  9,  10, 13, 12],\n",
        "])\n",
        "\n",
        "print(new_pool(inpt, 2))"
      ],
      "execution_count": null,
      "outputs": []
    },
    {
      "cell_type": "markdown",
      "metadata": {
        "id": "ZRegofW3olRE"
      },
      "source": [
        "## Question 23"
      ]
    },
    {
      "cell_type": "markdown",
      "metadata": {
        "id": "0I27k82sp_Bp"
      },
      "source": [
        "**Question 23:** *Write a simple function that achieves normalisation within each feature map, modifying the feature map so that its mean value is zero and its standard deviation is 10 one. After agreeing on a common function with your group members, show this to your teacher. (Question 23, 2 points)*\n"
      ]
    },
    {
      "cell_type": "code",
      "metadata": {
        "id": "IDmD-1CBqMyi"
      },
      "source": [
        "# Rivka\n",
        "def imitate_normalize(inpt):\n",
        "  inpt = np.array(inpt)\n",
        "  inpt = inpt.astype(float)\n",
        "  normalized_input=np.zeros(inpt.shape[0])\n",
        "  for layer in range(inpt.shape[0]):\n",
        "    inpt[layer] = (inpt[layer] - inpt[layer].mean()) / inpt[layer].std()\n",
        "  return inpt\n",
        "\n",
        "#print(5 + (np.random.randn(4, 4) * 2))\n",
        "inpt = np.array([[2,-4],[-4,2]])\n",
        "A_3D = [[[1,1,1,1],[2,2,2,2],[3,3,3,3]],[[5,5,5,5],[2,2,2,2],[3,3,3,3]]]\n",
        "imitate_normalize(A_3D)"
      ],
      "execution_count": null,
      "outputs": []
    },
    {
      "cell_type": "markdown",
      "metadata": {
        "id": "1oqg2SvYowTA"
      },
      "source": [
        "## Question 24"
      ]
    },
    {
      "cell_type": "markdown",
      "metadata": {
        "id": "cd7ckxAZqC-_"
      },
      "source": [
        "**Question 24:** *Write a function that produces a fully-connected layer. This should allow you to specify the number of output nodes, and link each of these to every node a stack of feature maps. The stack of feature maps will typically be flattened into a 1- dimensional matrix first. After agreeing on a common function with your group members, show this to your teacher. (Question 24, 5 points)*\n",
        "\n"
      ]
    },
    {
      "cell_type": "code",
      "metadata": {
        "id": "Fpscb1wvzUnz"
      },
      "source": [
        "# Jacob \n",
        "import numpy as np\n",
        "\n",
        "def fully(image, weights):\n",
        "  \n",
        "  # Flatten image\n",
        "  image = (np.asmatrix(image)).flatten()\n",
        "  col = len(weights[0])\n",
        "\n",
        "  # Create matrices of equal size\n",
        "  image_h = np.tile(image, (col, 1))\n",
        "\n",
        "  # Return product of matrices - fully connected layer\n",
        "  return np.matmul(image_h, weights)[0]\n",
        "\n",
        "image_test = [[1,2],[3,4]]\n",
        "\n",
        "test_weigths = [[1,5,9],[2,6,10],[3,7,11],[4,8,12]]\n",
        "\n",
        "print(fully(image_test, test_weigths))"
      ],
      "execution_count": null,
      "outputs": []
    },
    {
      "cell_type": "markdown",
      "metadata": {
        "id": "M6z5Uuk0oyIj"
      },
      "source": [
        "## Question 25"
      ]
    },
    {
      "cell_type": "markdown",
      "metadata": {
        "id": "vw5EXNFiqIKv"
      },
      "source": [
        "**Question 25:** *Write a function that converts the activation of a 1-dimensional matrix (such as the output of a fully-connected layer) into a set of probabilities that each matrix element is the most likely classification. This should include the algorithmic expression of a softmax (normalised exponential) function. After agreeing on a common function with your group members, show this to your teacher. (Question 25, 2 points)*"
      ]
    },
    {
      "cell_type": "code",
      "metadata": {
        "id": "f4tE5bzwqNyP"
      },
      "source": [
        "# Rivka\n",
        "# Softmax function\n",
        "def imitate_softmax(input_layer):\n",
        "    exponential = np.exp(input_layer)\n",
        "    exponential_sum = np.sum(exponential)\n",
        "    return exponential/exponential_sum"
      ],
      "execution_count": null,
      "outputs": []
    },
    {
      "cell_type": "code",
      "metadata": {
        "id": "sj-GLHYKmH_3"
      },
      "source": [
        "# Test case softmax\n",
        "A_1D = [1,2,3,4,5,6,7,8,9,10]\n",
        "imitate_softmax(A_1D)"
      ],
      "execution_count": null,
      "outputs": []
    },
    {
      "cell_type": "markdown",
      "metadata": {
        "id": "tllaDJDuoBMZ"
      },
      "source": [
        "# Extra Functions from part 3"
      ]
    },
    {
      "cell_type": "code",
      "metadata": {
        "id": "WvGJoMIrzck4"
      },
      "source": [
        "#20\n",
        "#JJ's code\n",
        "#this function does make the output smaller than the input\n",
        "#better suited for categorization than image transformation\n",
        "#also, the outputted featureMaps might not be the same size if the filters aren't\n",
        "#function should be used like: convolution(x, y, z, input=exampleArray)\n",
        "\n",
        "def convolutionFunction(*filters, input):\n",
        "    input = numpy.array(input)\n",
        "    inputshape = numpy.shape(input)\n",
        "    featureMapList = []\n",
        "\n",
        "    for filter in filters:\n",
        "        filter = numpy.array(filter)\n",
        "        filtershape = numpy.shape(filter)\n",
        "\n",
        "        if (len(inputshape) == 2):\n",
        "            featureMap = numpy.empty(inputshape[0]-(filtershape[0]-1), inputshape[1]-(filtershape[1]-1))\n",
        "            for xvalue in range(inputshape[0]-(filtershape[0]-1)):\n",
        "                for yvalue in range(inputshape[1]-(filtershape[1]-1)):\n",
        "                    tempValue = 0\n",
        "                    for xelement in range(filtershape[0]):\n",
        "                        for yelement in range(filtershape[1]):\n",
        "                            tempValue = tempValue + filter[xelement, yelement] * input[xvalue + xelement, yvalue + yelement]\n",
        "             \n",
        "                    featureMap[xvalue, yvalue] = tempValue\n",
        "            featureMapList.append(featureMap)\n",
        "\n",
        "        else:\n",
        "            featureMap = numpy.empty(inputshape[0]-(filtershape[0]-1), inputshape[1]-(filtershape[1]-1))\n",
        "            for xvalue in range(inputshape[0]-(filtershape[0]-1)):\n",
        "                for yvalue in range(inputshape[1]-(filtershape[1]-1)):\n",
        "                    \n",
        "                    tempValue = 0\n",
        "                    for xelement in range(filtershape[0]):\n",
        "                        for yelement in range(filtershape[1]):\n",
        "                            for zelement in range(filtershape[2]):\n",
        "                                tempValue = tempValue + filter[xelement, yelement, zelement] * input[xvalue + xelement, yvalue + yelement, zelement]\n",
        "                                 \n",
        "                    featureMap[xvalue, yvalue] = tempValue\n",
        "                    \n",
        "            featureMapList.append(featureMap)\n",
        "\n",
        "    return featureMapList"
      ],
      "execution_count": null,
      "outputs": []
    },
    {
      "cell_type": "code",
      "metadata": {
        "id": "GcmrmdNZmvTT"
      },
      "source": [
        "# Jacob 21\n",
        "\n",
        "def relu_matrix(feature_map):\n",
        "  feature_map = np.array(feature_map)\n",
        "  return np.maximum(0,feature_map)"
      ],
      "execution_count": null,
      "outputs": []
    },
    {
      "cell_type": "code",
      "metadata": {
        "id": "niSgCFVMU5G8"
      },
      "source": [
        "# Rivka 21\n",
        "# Without for-loops relu function\n",
        "def relu_activation(input):\n",
        "  M_input = np.array(input)\n",
        "  output = np.maximum(0,M_input)\n",
        "  return output"
      ],
      "execution_count": null,
      "outputs": []
    },
    {
      "cell_type": "code",
      "metadata": {
        "id": "29SI1c3EoUVa"
      },
      "source": [
        "#21\n",
        "# Jacob\n",
        "def relu(feature_map):\n",
        "    return [max(0, x) for x in feature_map]\n",
        "    \n",
        "feature_map = [x for x in range(-3, 6)]\n",
        "output = relu(feature_map)\n",
        "\n",
        "\n",
        "print(feature_map, output)\n",
        "\n",
        "#JJ's code\n",
        "def reluFunction(featuremap):\n",
        "    featuremap = np.array(featuremap)\n",
        "    mapShape = np.shape(featuremap)\n",
        "    for x in range(mapShape[0]):\n",
        "            for y in range(mapShape[1]):\n",
        "                if (featuremap[x, y] < 0):\n",
        "                    featuremap[x, y] = 0\n",
        "    return featuremap\n",
        "\n",
        "# Rivka\n",
        "# Function to imitate relu activation \n",
        "def relu_imitation(input):\n",
        "    output = []\n",
        "    for element in input:\n",
        "      output.append(max(0.0, float(element)))\n",
        "    return output"
      ],
      "execution_count": null,
      "outputs": []
    },
    {
      "cell_type": "code",
      "metadata": {
        "id": "9tz5bfHK0MDd"
      },
      "source": [
        "# 21\n",
        "def relu_activation(input):\n",
        "  M_input = np.asmatrix(input)\n",
        "  if (M_input.ndim == 2):\n",
        "    r, c = M_input.shape\n",
        "    output = np.zeros([r,c], dtype= int)\n",
        "    for y in range(c):\n",
        "      for x in range(r):\n",
        "        output[x,y] = max(0, M_input[x,y])\n",
        "    return output"
      ],
      "execution_count": null,
      "outputs": []
    },
    {
      "cell_type": "code",
      "metadata": {
        "id": "duczmdsvog5c"
      },
      "source": [
        "# 22\n",
        "# Rivka\n",
        "# Imitate pooling layer \n",
        "def pool_imitation(input, pool_size):\n",
        "  stride = pool_size[0]\n",
        "\n",
        "  # Input size of image\n",
        "  input_size = (len(input))\n",
        "\n",
        "  # Make output size based on pool_size and input size\n",
        "  output_size = ((input_size - stride)) + 1\n",
        "\n",
        "  # Make output matrix\n",
        "  output_mat = []\n",
        "\n",
        "  # Define start position in matrix\n",
        "  start_x = 0\n",
        "  start_y = 0\n",
        "\n",
        "  # How much to move each iteration\n",
        "  move_x = pool_size[0]\n",
        "  move_y = pool_size[1]\n",
        "\n",
        "  # Loop through input \n",
        "  for x_position in range(output_size):\n",
        "    for y_position in range(output_size):\n",
        "      # Take correct part of image\n",
        "      part = np.max(input[x_position:x_position+move_x,y_position:y_position+move_y])\n",
        "      # Store part_max in output\n",
        "      output_mat.append(part)\n",
        "\n",
        "  return np.reshape(output_mat,[output_size,output_size])\n",
        "\n",
        "# Test\n",
        "input = np.array([[1,2,3]] * 3)\n",
        "\n",
        "pool_size = ([2,2])\n",
        "pool_imitation(input, pool_size)\n",
        "\n",
        "#JJ's code\n",
        "#sizePool is a list with two integers of which the inputMap is dividable by in height and width\n",
        "def maxpoolFunction(sizePool, inputMap):\n",
        "    inputMap = numpy.array(inputMap)\n",
        "    inputshape = numpy.shape(inputMap)\n",
        "\n",
        "    xpool = sizePool[0]\n",
        "    ypool = sizePool[1]\n",
        "\n",
        "    featureMap = numpy.empty(inputshape[0]/xpool, inputshape[1]/ypool)\n",
        "\n",
        "    xvalue = 0\n",
        "    yvalue = 0\n",
        "    xvalueForNewMap = 0\n",
        "    yvalueForNewMap = 0\n",
        "    while (xvalue < inputshape[0]):\n",
        "        while (yvalue < inputshape[1]):\n",
        "            maxvalue = float('-inf')\n",
        "            for x in range(xpool):\n",
        "                for y in range(ypool):\n",
        "                    if (inputMap[xvalue + x, yvalue + y] > maxvalue):\n",
        "                        maxvalue = inputMap[xvalue + x, yvalue + y]\n",
        "            \n",
        "            featureMap[xvalueForNewMap, yvalueForNewMap] = maxvalue\n",
        "\n",
        "            yvalueForNewMap = yvalueForNewMap + 1\n",
        "            yvalue = yvalue + ypool\n",
        "        xvalueForNewMap = xvalueForNewMap + 1\n",
        "        xvalue = xvalue + xpool\n",
        "\n",
        "    return featureMap"
      ],
      "execution_count": null,
      "outputs": []
    },
    {
      "cell_type": "code",
      "metadata": {
        "id": "MMxPmU0eos6N"
      },
      "source": [
        "#23\n",
        "# Jacob\n",
        "feature_map = [x for x in range(-4, 6)]\n",
        "print(feature_map)\n",
        "\n",
        "def new_norm(feature_map):\n",
        "  feature_map -= np.mean(feature_map)\n",
        "  feature_map /= np.std(feature_map)\n",
        "  return feature_map\n",
        "\n",
        "print(new_norm(feature_map))\n",
        "\n",
        "feature_map_2d = [\n",
        "                  [-4,-3,-2,-1, 0],\n",
        "                  [1,2,3,4,5]\n",
        "]\n",
        "\n",
        "print(normalizeFunction(feature_map_2d))\n",
        "\n",
        "#JJ's code\n",
        "def normalizeFunction(featureMap):\n",
        "    featureMap = np.array(featureMap)\n",
        "    mapShape = np.size(featureMap)\n",
        "    totalValue = 0\n",
        "    elementCounter = 0\n",
        "\n",
        "    for element in featureMap:\n",
        "        totalValue = totalValue + element\n",
        "        elementCounter = elementCounter + 1\n",
        "\n",
        "    valueForMean = totalValue / elementCounter\n",
        "    if (totalValue > 0):\n",
        "        for x in range(mapShape[0]):\n",
        "            for y in range(mapShape[1]):\n",
        "                featureMap[x, y] = featureMap[x, y] - valueForMean\n",
        "    else:\n",
        "        for x in range(mapShape[0]):\n",
        "            for y in range(mapShape[1]):\n",
        "                featureMap[x, y] = featureMap[x, y] + valueForMean\n",
        "    \n",
        "    standardDeviation = np.std(featureMap)\n",
        "    for x in range(mapShape[0]):\n",
        "            for y in range(mapShape[1]):\n",
        "                featureMap[x, y] = featureMap[x, y] / standardDeviation\n",
        "    \n",
        "    return featureMap"
      ],
      "execution_count": null,
      "outputs": []
    },
    {
      "cell_type": "code",
      "metadata": {
        "id": "i-pcuR5EqNU_"
      },
      "source": [
        "#JJ's code 24\n",
        "def connected_neuralnet(image, weights, no_output_nodes):\n",
        "\n",
        "    # flatten input (image)\n",
        "    image = (np.asmatrix(image)).flatten()\n",
        "\n",
        "    # Loop over output nodes\n",
        "    output_value = []\n",
        "    for node in range(no_output_nodes):\n",
        "      # Make weights as long as input\n",
        "      factor = len(image)/len(weights)\n",
        "      weights = weights * factor\n",
        "\n",
        "      # Calculate output value\n",
        "      output_value[node] = image * weights\n",
        "\n",
        "    return output_value\n",
        "\n",
        "    # listNodes = np.zeros(no_output_nodes)\n",
        "    # for node in listNodes:\n",
        "    #     nodeIndex = 0\n",
        "    #     templist = [np.zeros(len(weights[0]))]\n",
        "    #     indexlist = 0\n",
        "    #     for element in image:\n",
        "    #         templist[indexlist] = element * weights[element, node]\n",
        "    #         indexlist = indexlist + 1\n",
        "    #     listNodes[nodeIndex] = templist\n",
        "    #     nodeIndex = nodeIndex + 1\n",
        "    return listNodes"
      ],
      "execution_count": null,
      "outputs": []
    },
    {
      "cell_type": "markdown",
      "metadata": {
        "id": "lNsrHOBw2GSE"
      },
      "source": [
        "# Bonus"
      ]
    },
    {
      "cell_type": "code",
      "metadata": {
        "id": "6bhdZWbt2Kok"
      },
      "source": [
        "def convolution_operation (input, *filters):\n",
        "  #determine shape of the output matrix\n",
        "    input = np.array(input)\n",
        "    dim = len(np.shape(input))\n",
        "\n",
        "    if (dim == 2):\n",
        "          xInput, yInput = np.shape(input)\n",
        "          nf, xFilter,yFilter = np.shape(filters)\n",
        "    else:\n",
        "          zInput,xInput,yInput = np.shape(input)\n",
        "          nf, zFilter,xFilter,yFilter = np.shape(filters)\n",
        "    #determine output size\n",
        "    xOutput = xInput - xFilter + 1\n",
        "    yOutput = yInput - yFilter + 1\n",
        "\n",
        "    outputLijst = np.zeros((nf,xOutput,yOutput))\n",
        "    filter_index = 0\n",
        "    for filter in filters:\n",
        "        #case input is 2D\n",
        "        if (dim == 2):\n",
        "          #convolution operation\n",
        "          for y in range(yOutput): \n",
        "            for x in  range(xOutput):\n",
        "               outputLijst[filter_index][x][y] = ((input[x:(x+xFilter), y:(y+yFilter)]) * filter).sum()\n",
        "        #case input is 3D\n",
        "        else:\n",
        "          #determine output size\n",
        "          output = np.zeros((xOutput,yOutput), dtype= int)\n",
        "          for y in range(yOutput): \n",
        "            for x in  range(xOutput):\n",
        "              value = ((input[0:zFilter, x:(x+xFilter), y:(y+yFilter)]) * filter).sum()\n",
        "              outputLijst[filter_index][x][y] = value\n",
        "        filter_index += 1\n",
        "    return (outputLijst, filters)\n",
        "\n",
        "# Initial image & filters\n",
        "def backpropegation(input, filters, expected, l_rate):\n",
        "  output, filters = convolution_operation(input, filters)\n",
        "\n",
        "  print(output)\n",
        "  print(filters)\n",
        "\n",
        "  new_filters = list()\n",
        "  # Change filters based on output\n",
        "  for i in range(len(output)):\n",
        "    feature_map = output[i]\n",
        "    error = expected[i] - feature_map\n",
        "    print(error)\n",
        "    delta = (error * (feature_map * (1.0 - feature_map)))\n",
        "    print(delta)\n",
        "    new_filters.append(filters[i] + l_rate * delta * feature_map)\n",
        "\n",
        "  return new_filters"
      ],
      "execution_count": null,
      "outputs": []
    },
    {
      "cell_type": "code",
      "metadata": {
        "id": "sXHtkkbg84t3"
      },
      "source": [
        "A_2D = [[1,1,1,1],[2,2,2,2],[3,3,3,3],[4,4,4,4]]\n",
        "test_filter = [[1,1],[0,0]]\n",
        "test_expected = [[[ 4,  4, 4],[ 8, 8, 8],[12, 12, 12]]]\n",
        "\n",
        "print(backpropegation(A_2D, test_filter, test_expected, 0.1))"
      ],
      "execution_count": null,
      "outputs": []
    }
  ]
}